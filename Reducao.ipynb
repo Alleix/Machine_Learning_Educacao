{
 "cells": [
  {
   "cell_type": "code",
   "execution_count": 1,
   "id": "a0337eb8-c58e-4921-b7fd-54beb622cb75",
   "metadata": {},
   "outputs": [],
   "source": [
    "import pandas as pd\n",
    "import numpy as np\n",
    "import matplotlib.pyplot as plt\n",
    "from sklearn.decomposition import PCA\n",
    "from sklearn.preprocessing import StandardScaler"
   ]
  },
  {
   "cell_type": "code",
   "execution_count": 19,
   "id": "54583df2-81e1-4062-8bad-c5d710747742",
   "metadata": {},
   "outputs": [],
   "source": [
    "df01 = pd.read_csv('datasets/DADOS_INEP_EF_AI.csv',encoding=\"latin-1\", sep = ';')\n",
    "df03 = pd.read_csv('datasets/DADOS_INEP_EF_AF.csv',encoding=\"latin-1\", sep = ';')\n",
    "df02 = pd.read_csv('datasets/DADOS_INEP_EM.csv',encoding=\"latin-1\", sep = ';')"
   ]
  },
  {
   "cell_type": "code",
   "execution_count": 20,
   "id": "d8ba0a01-a75f-4d01-9707-c425cbf191c0",
   "metadata": {},
   "outputs": [],
   "source": [
    "#Criando Dataframes com 20,30 e 40 colunas \n",
    "df_EF_AI_20 = df01.iloc[:, :20].values\n",
    "df_EF_AI_30 = df01.iloc[:, :30].values\n",
    "df_EF_AI_40 = df01.iloc[:, :40].values"
   ]
  },
  {
   "cell_type": "code",
   "execution_count": 21,
   "id": "14d289e3-4979-4f87-9816-c48761c46302",
   "metadata": {},
   "outputs": [],
   "source": [
    "#Criando Dataframes com 20,30 e 40 colunas \n",
    "df_EF_AF_20 = df03.iloc[:, :20].values\n",
    "df_EF_AF_30 = df03.iloc[:, :30].values\n",
    "df_EF_AF_40 = df03.iloc[:, :40].values"
   ]
  },
  {
   "cell_type": "code",
   "execution_count": 22,
   "id": "6eeb613e-c05e-47df-a036-5e152938e7b5",
   "metadata": {},
   "outputs": [],
   "source": [
    "#Criando Dataframes com 20,30 e 40 colunas \n",
    "df_EM_20 = df02.iloc[:, :20].values\n",
    "df_EM_30 = df02.iloc[:, :30].values\n",
    "df_EM_40 = df02.iloc[:, :40].values"
   ]
  },
  {
   "cell_type": "code",
   "execution_count": 26,
   "id": "31af2487-2ebf-42d9-a5d9-e508aefd2f17",
   "metadata": {},
   "outputs": [
    {
     "name": "stdout",
     "output_type": "stream",
     "text": [
      "(32284, 20)\n",
      "(32284, 30)\n",
      "(32284, 40)\n",
      "(21992, 20)\n",
      "(21992, 30)\n",
      "(21992, 40)\n",
      "(32284, 20)\n",
      "(32284, 30)\n",
      "(32284, 40)\n"
     ]
    }
   ],
   "source": [
    "print(df_EF_AI_20.shape)\n",
    "print(df_EF_AI_30.shape)\n",
    "print(df_EF_AI_40.shape)\n",
    "\n",
    "print(df_EF_AF_20.shape)\n",
    "print(df_EF_AF_30.shape)\n",
    "print(df_EF_AF_40.shape)\n",
    "\n",
    "print(df_EF_AI_20.shape)\n",
    "print(df_EF_AI_30.shape)\n",
    "print(df_EF_AI_40.shape)\n"
   ]
  },
  {
   "cell_type": "code",
   "execution_count": null,
   "id": "bb6d84c4-4c0b-4e2b-9ded-0191eb314684",
   "metadata": {},
   "outputs": [],
   "source": [
    "df_EF_AI_20\n",
    "df_EF_AI_30\n",
    "df_EF_AI_40\n",
    "\n",
    "df_EF_AF_20\n",
    "df_EF_AF_30\n",
    "df_EF_AF_40\n",
    "\n",
    "df_EF_AI_20\n",
    "df_EF_AI_30\n",
    "df_EF_AI_40"
   ]
  },
  {
   "cell_type": "code",
   "execution_count": null,
   "id": "90ad20e9-bd17-4c3c-8186-32d614b647b2",
   "metadata": {},
   "outputs": [],
   "source": []
  }
 ],
 "metadata": {
  "kernelspec": {
   "display_name": "Python 3 (ipykernel)",
   "language": "python",
   "name": "python3"
  },
  "language_info": {
   "codemirror_mode": {
    "name": "ipython",
    "version": 3
   },
   "file_extension": ".py",
   "mimetype": "text/x-python",
   "name": "python",
   "nbconvert_exporter": "python",
   "pygments_lexer": "ipython3",
   "version": "3.10.12"
  }
 },
 "nbformat": 4,
 "nbformat_minor": 5
}
