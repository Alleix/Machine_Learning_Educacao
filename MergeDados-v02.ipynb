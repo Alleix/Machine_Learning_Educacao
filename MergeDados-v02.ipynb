{
 "cells": [
  {
   "cell_type": "code",
   "execution_count": 1,
   "id": "4c7279a8",
   "metadata": {},
   "outputs": [],
   "source": [
    "import pandas as pd\n",
    "import numpy as numpy\n",
    "import matplotlib.pyplot as plt"
   ]
  },
  {
   "cell_type": "code",
   "execution_count": 2,
   "id": "61f442d8",
   "metadata": {
    "scrolled": true
   },
   "outputs": [
    {
     "ename": "FileNotFoundError",
     "evalue": "[Errno 2] No such file or directory: '/home/rogerio/Downloads/INEP/2021/divulgacao_anos_iniciais_escolas_2021/divulgacao_anos_iniciais_escolas_2021.csv'",
     "output_type": "error",
     "traceback": [
      "\u001b[0;31m---------------------------------------------------------------------------\u001b[0m",
      "\u001b[0;31mFileNotFoundError\u001b[0m                         Traceback (most recent call last)",
      "\u001b[0;32m/tmp/ipykernel_7241/665625054.py\u001b[0m in \u001b[0;36m<module>\u001b[0;34m\u001b[0m\n\u001b[0;32m----> 1\u001b[0;31m \u001b[0mdf01\u001b[0m \u001b[0;34m=\u001b[0m \u001b[0mpd\u001b[0m\u001b[0;34m.\u001b[0m\u001b[0mread_csv\u001b[0m\u001b[0;34m(\u001b[0m\u001b[0;34m'/home/rogerio/Downloads/INEP/2021/divulgacao_anos_iniciais_escolas_2021/divulgacao_anos_iniciais_escolas_2021.csv'\u001b[0m\u001b[0;34m,\u001b[0m \u001b[0mencoding\u001b[0m\u001b[0;34m=\u001b[0m\u001b[0;34m\"latin-1\"\u001b[0m\u001b[0;34m,\u001b[0m \u001b[0msep\u001b[0m \u001b[0;34m=\u001b[0m \u001b[0;34m';'\u001b[0m\u001b[0;34m)\u001b[0m\u001b[0;34m\u001b[0m\u001b[0;34m\u001b[0m\u001b[0m\n\u001b[0m\u001b[1;32m      2\u001b[0m \u001b[0mdf02\u001b[0m \u001b[0;34m=\u001b[0m \u001b[0mpd\u001b[0m\u001b[0;34m.\u001b[0m\u001b[0mread_csv\u001b[0m\u001b[0;34m(\u001b[0m\u001b[0;34m'/home/rogerio/Downloads/INEP/2021/divulgacao_anos_finais_escolas_2021/divulgacao_anos_finais_escolas_2021.csv'\u001b[0m\u001b[0;34m,\u001b[0m \u001b[0mencoding\u001b[0m\u001b[0;34m=\u001b[0m\u001b[0;34m\"latin-1\"\u001b[0m\u001b[0;34m,\u001b[0m \u001b[0msep\u001b[0m \u001b[0;34m=\u001b[0m \u001b[0;34m';'\u001b[0m\u001b[0;34m)\u001b[0m\u001b[0;34m\u001b[0m\u001b[0;34m\u001b[0m\u001b[0m\n\u001b[1;32m      3\u001b[0m \u001b[0mdfEM\u001b[0m \u001b[0;34m=\u001b[0m \u001b[0mpd\u001b[0m\u001b[0;34m.\u001b[0m\u001b[0mread_csv\u001b[0m\u001b[0;34m(\u001b[0m\u001b[0;34m'/home/rogerio/Downloads/INEP/2021/divulgacao_ensino_medio_escolas_2021/divulgacao_ensino_medio_escolas_2021.csv'\u001b[0m\u001b[0;34m,\u001b[0m \u001b[0mencoding\u001b[0m\u001b[0;34m=\u001b[0m\u001b[0;34m\"latin-1\"\u001b[0m\u001b[0;34m,\u001b[0m \u001b[0msep\u001b[0m \u001b[0;34m=\u001b[0m \u001b[0;34m';'\u001b[0m\u001b[0;34m)\u001b[0m\u001b[0;34m\u001b[0m\u001b[0;34m\u001b[0m\u001b[0m\n",
      "\u001b[0;32m/usr/lib/python3/dist-packages/pandas/util/_decorators.py\u001b[0m in \u001b[0;36mwrapper\u001b[0;34m(*args, **kwargs)\u001b[0m\n\u001b[1;32m    309\u001b[0m                     \u001b[0mstacklevel\u001b[0m\u001b[0;34m=\u001b[0m\u001b[0mstacklevel\u001b[0m\u001b[0;34m,\u001b[0m\u001b[0;34m\u001b[0m\u001b[0;34m\u001b[0m\u001b[0m\n\u001b[1;32m    310\u001b[0m                 )\n\u001b[0;32m--> 311\u001b[0;31m             \u001b[0;32mreturn\u001b[0m \u001b[0mfunc\u001b[0m\u001b[0;34m(\u001b[0m\u001b[0;34m*\u001b[0m\u001b[0margs\u001b[0m\u001b[0;34m,\u001b[0m \u001b[0;34m**\u001b[0m\u001b[0mkwargs\u001b[0m\u001b[0;34m)\u001b[0m\u001b[0;34m\u001b[0m\u001b[0;34m\u001b[0m\u001b[0m\n\u001b[0m\u001b[1;32m    312\u001b[0m \u001b[0;34m\u001b[0m\u001b[0m\n\u001b[1;32m    313\u001b[0m         \u001b[0;32mreturn\u001b[0m \u001b[0mwrapper\u001b[0m\u001b[0;34m\u001b[0m\u001b[0;34m\u001b[0m\u001b[0m\n",
      "\u001b[0;32m/usr/lib/python3/dist-packages/pandas/io/parsers/readers.py\u001b[0m in \u001b[0;36mread_csv\u001b[0;34m(filepath_or_buffer, sep, delimiter, header, names, index_col, usecols, squeeze, prefix, mangle_dupe_cols, dtype, engine, converters, true_values, false_values, skipinitialspace, skiprows, skipfooter, nrows, na_values, keep_default_na, na_filter, verbose, skip_blank_lines, parse_dates, infer_datetime_format, keep_date_col, date_parser, dayfirst, cache_dates, iterator, chunksize, compression, thousands, decimal, lineterminator, quotechar, quoting, doublequote, escapechar, comment, encoding, encoding_errors, dialect, error_bad_lines, warn_bad_lines, on_bad_lines, delim_whitespace, low_memory, memory_map, float_precision, storage_options)\u001b[0m\n\u001b[1;32m    584\u001b[0m     \u001b[0mkwds\u001b[0m\u001b[0;34m.\u001b[0m\u001b[0mupdate\u001b[0m\u001b[0;34m(\u001b[0m\u001b[0mkwds_defaults\u001b[0m\u001b[0;34m)\u001b[0m\u001b[0;34m\u001b[0m\u001b[0;34m\u001b[0m\u001b[0m\n\u001b[1;32m    585\u001b[0m \u001b[0;34m\u001b[0m\u001b[0m\n\u001b[0;32m--> 586\u001b[0;31m     \u001b[0;32mreturn\u001b[0m \u001b[0m_read\u001b[0m\u001b[0;34m(\u001b[0m\u001b[0mfilepath_or_buffer\u001b[0m\u001b[0;34m,\u001b[0m \u001b[0mkwds\u001b[0m\u001b[0;34m)\u001b[0m\u001b[0;34m\u001b[0m\u001b[0;34m\u001b[0m\u001b[0m\n\u001b[0m\u001b[1;32m    587\u001b[0m \u001b[0;34m\u001b[0m\u001b[0m\n\u001b[1;32m    588\u001b[0m \u001b[0;34m\u001b[0m\u001b[0m\n",
      "\u001b[0;32m/usr/lib/python3/dist-packages/pandas/io/parsers/readers.py\u001b[0m in \u001b[0;36m_read\u001b[0;34m(filepath_or_buffer, kwds)\u001b[0m\n\u001b[1;32m    480\u001b[0m \u001b[0;34m\u001b[0m\u001b[0m\n\u001b[1;32m    481\u001b[0m     \u001b[0;31m# Create the parser.\u001b[0m\u001b[0;34m\u001b[0m\u001b[0;34m\u001b[0m\u001b[0m\n\u001b[0;32m--> 482\u001b[0;31m     \u001b[0mparser\u001b[0m \u001b[0;34m=\u001b[0m \u001b[0mTextFileReader\u001b[0m\u001b[0;34m(\u001b[0m\u001b[0mfilepath_or_buffer\u001b[0m\u001b[0;34m,\u001b[0m \u001b[0;34m**\u001b[0m\u001b[0mkwds\u001b[0m\u001b[0;34m)\u001b[0m\u001b[0;34m\u001b[0m\u001b[0;34m\u001b[0m\u001b[0m\n\u001b[0m\u001b[1;32m    483\u001b[0m \u001b[0;34m\u001b[0m\u001b[0m\n\u001b[1;32m    484\u001b[0m     \u001b[0;32mif\u001b[0m \u001b[0mchunksize\u001b[0m \u001b[0;32mor\u001b[0m \u001b[0miterator\u001b[0m\u001b[0;34m:\u001b[0m\u001b[0;34m\u001b[0m\u001b[0;34m\u001b[0m\u001b[0m\n",
      "\u001b[0;32m/usr/lib/python3/dist-packages/pandas/io/parsers/readers.py\u001b[0m in \u001b[0;36m__init__\u001b[0;34m(self, f, engine, **kwds)\u001b[0m\n\u001b[1;32m    809\u001b[0m             \u001b[0mself\u001b[0m\u001b[0;34m.\u001b[0m\u001b[0moptions\u001b[0m\u001b[0;34m[\u001b[0m\u001b[0;34m\"has_index_names\"\u001b[0m\u001b[0;34m]\u001b[0m \u001b[0;34m=\u001b[0m \u001b[0mkwds\u001b[0m\u001b[0;34m[\u001b[0m\u001b[0;34m\"has_index_names\"\u001b[0m\u001b[0;34m]\u001b[0m\u001b[0;34m\u001b[0m\u001b[0;34m\u001b[0m\u001b[0m\n\u001b[1;32m    810\u001b[0m \u001b[0;34m\u001b[0m\u001b[0m\n\u001b[0;32m--> 811\u001b[0;31m         \u001b[0mself\u001b[0m\u001b[0;34m.\u001b[0m\u001b[0m_engine\u001b[0m \u001b[0;34m=\u001b[0m \u001b[0mself\u001b[0m\u001b[0;34m.\u001b[0m\u001b[0m_make_engine\u001b[0m\u001b[0;34m(\u001b[0m\u001b[0mself\u001b[0m\u001b[0;34m.\u001b[0m\u001b[0mengine\u001b[0m\u001b[0;34m)\u001b[0m\u001b[0;34m\u001b[0m\u001b[0;34m\u001b[0m\u001b[0m\n\u001b[0m\u001b[1;32m    812\u001b[0m \u001b[0;34m\u001b[0m\u001b[0m\n\u001b[1;32m    813\u001b[0m     \u001b[0;32mdef\u001b[0m \u001b[0mclose\u001b[0m\u001b[0;34m(\u001b[0m\u001b[0mself\u001b[0m\u001b[0;34m)\u001b[0m\u001b[0;34m:\u001b[0m\u001b[0;34m\u001b[0m\u001b[0;34m\u001b[0m\u001b[0m\n",
      "\u001b[0;32m/usr/lib/python3/dist-packages/pandas/io/parsers/readers.py\u001b[0m in \u001b[0;36m_make_engine\u001b[0;34m(self, engine)\u001b[0m\n\u001b[1;32m   1038\u001b[0m             )\n\u001b[1;32m   1039\u001b[0m         \u001b[0;31m# error: Too many arguments for \"ParserBase\"\u001b[0m\u001b[0;34m\u001b[0m\u001b[0;34m\u001b[0m\u001b[0m\n\u001b[0;32m-> 1040\u001b[0;31m         \u001b[0;32mreturn\u001b[0m \u001b[0mmapping\u001b[0m\u001b[0;34m[\u001b[0m\u001b[0mengine\u001b[0m\u001b[0;34m]\u001b[0m\u001b[0;34m(\u001b[0m\u001b[0mself\u001b[0m\u001b[0;34m.\u001b[0m\u001b[0mf\u001b[0m\u001b[0;34m,\u001b[0m \u001b[0;34m**\u001b[0m\u001b[0mself\u001b[0m\u001b[0;34m.\u001b[0m\u001b[0moptions\u001b[0m\u001b[0;34m)\u001b[0m  \u001b[0;31m# type: ignore[call-arg]\u001b[0m\u001b[0;34m\u001b[0m\u001b[0;34m\u001b[0m\u001b[0m\n\u001b[0m\u001b[1;32m   1041\u001b[0m \u001b[0;34m\u001b[0m\u001b[0m\n\u001b[1;32m   1042\u001b[0m     \u001b[0;32mdef\u001b[0m \u001b[0m_failover_to_python\u001b[0m\u001b[0;34m(\u001b[0m\u001b[0mself\u001b[0m\u001b[0;34m)\u001b[0m\u001b[0;34m:\u001b[0m\u001b[0;34m\u001b[0m\u001b[0;34m\u001b[0m\u001b[0m\n",
      "\u001b[0;32m/usr/lib/python3/dist-packages/pandas/io/parsers/c_parser_wrapper.py\u001b[0m in \u001b[0;36m__init__\u001b[0;34m(self, src, **kwds)\u001b[0m\n\u001b[1;32m     49\u001b[0m \u001b[0;34m\u001b[0m\u001b[0m\n\u001b[1;32m     50\u001b[0m         \u001b[0;31m# open handles\u001b[0m\u001b[0;34m\u001b[0m\u001b[0;34m\u001b[0m\u001b[0m\n\u001b[0;32m---> 51\u001b[0;31m         \u001b[0mself\u001b[0m\u001b[0;34m.\u001b[0m\u001b[0m_open_handles\u001b[0m\u001b[0;34m(\u001b[0m\u001b[0msrc\u001b[0m\u001b[0;34m,\u001b[0m \u001b[0mkwds\u001b[0m\u001b[0;34m)\u001b[0m\u001b[0;34m\u001b[0m\u001b[0;34m\u001b[0m\u001b[0m\n\u001b[0m\u001b[1;32m     52\u001b[0m         \u001b[0;32massert\u001b[0m \u001b[0mself\u001b[0m\u001b[0;34m.\u001b[0m\u001b[0mhandles\u001b[0m \u001b[0;32mis\u001b[0m \u001b[0;32mnot\u001b[0m \u001b[0;32mNone\u001b[0m\u001b[0;34m\u001b[0m\u001b[0;34m\u001b[0m\u001b[0m\n\u001b[1;32m     53\u001b[0m \u001b[0;34m\u001b[0m\u001b[0m\n",
      "\u001b[0;32m/usr/lib/python3/dist-packages/pandas/io/parsers/base_parser.py\u001b[0m in \u001b[0;36m_open_handles\u001b[0;34m(self, src, kwds)\u001b[0m\n\u001b[1;32m    220\u001b[0m         \u001b[0mLet\u001b[0m \u001b[0mthe\u001b[0m \u001b[0mreaders\u001b[0m \u001b[0mopen\u001b[0m \u001b[0mIOHandles\u001b[0m \u001b[0mafter\u001b[0m \u001b[0mthey\u001b[0m \u001b[0mare\u001b[0m \u001b[0mdone\u001b[0m \u001b[0;32mwith\u001b[0m \u001b[0mtheir\u001b[0m \u001b[0mpotential\u001b[0m \u001b[0mraises\u001b[0m\u001b[0;34m.\u001b[0m\u001b[0;34m\u001b[0m\u001b[0;34m\u001b[0m\u001b[0m\n\u001b[1;32m    221\u001b[0m         \"\"\"\n\u001b[0;32m--> 222\u001b[0;31m         self.handles = get_handle(\n\u001b[0m\u001b[1;32m    223\u001b[0m             \u001b[0msrc\u001b[0m\u001b[0;34m,\u001b[0m\u001b[0;34m\u001b[0m\u001b[0;34m\u001b[0m\u001b[0m\n\u001b[1;32m    224\u001b[0m             \u001b[0;34m\"r\"\u001b[0m\u001b[0;34m,\u001b[0m\u001b[0;34m\u001b[0m\u001b[0;34m\u001b[0m\u001b[0m\n",
      "\u001b[0;32m/usr/lib/python3/dist-packages/pandas/io/common.py\u001b[0m in \u001b[0;36mget_handle\u001b[0;34m(path_or_buf, mode, encoding, compression, memory_map, is_text, errors, storage_options)\u001b[0m\n\u001b[1;32m    700\u001b[0m         \u001b[0;32mif\u001b[0m \u001b[0mioargs\u001b[0m\u001b[0;34m.\u001b[0m\u001b[0mencoding\u001b[0m \u001b[0;32mand\u001b[0m \u001b[0;34m\"b\"\u001b[0m \u001b[0;32mnot\u001b[0m \u001b[0;32min\u001b[0m \u001b[0mioargs\u001b[0m\u001b[0;34m.\u001b[0m\u001b[0mmode\u001b[0m\u001b[0;34m:\u001b[0m\u001b[0;34m\u001b[0m\u001b[0;34m\u001b[0m\u001b[0m\n\u001b[1;32m    701\u001b[0m             \u001b[0;31m# Encoding\u001b[0m\u001b[0;34m\u001b[0m\u001b[0;34m\u001b[0m\u001b[0m\n\u001b[0;32m--> 702\u001b[0;31m             handle = open(\n\u001b[0m\u001b[1;32m    703\u001b[0m                 \u001b[0mhandle\u001b[0m\u001b[0;34m,\u001b[0m\u001b[0;34m\u001b[0m\u001b[0;34m\u001b[0m\u001b[0m\n\u001b[1;32m    704\u001b[0m                 \u001b[0mioargs\u001b[0m\u001b[0;34m.\u001b[0m\u001b[0mmode\u001b[0m\u001b[0;34m,\u001b[0m\u001b[0;34m\u001b[0m\u001b[0;34m\u001b[0m\u001b[0m\n",
      "\u001b[0;31mFileNotFoundError\u001b[0m: [Errno 2] No such file or directory: '/home/rogerio/Downloads/INEP/2021/divulgacao_anos_iniciais_escolas_2021/divulgacao_anos_iniciais_escolas_2021.csv'"
     ]
    }
   ],
   "source": [
    "df01 = pd.read_csv('/home/rogerio/Downloads/INEP/2021/divulgacao_anos_iniciais_escolas_2021/divulgacao_anos_iniciais_escolas_2021.csv', encoding=\"latin-1\", sep = ';')\n",
    "df02 = pd.read_csv('/home/rogerio/Downloads/INEP/2021/divulgacao_anos_finais_escolas_2021/divulgacao_anos_finais_escolas_2021.csv', encoding=\"latin-1\", sep = ';')\n",
    "dfEM = pd.read_csv('/home/rogerio/Downloads/INEP/2021/divulgacao_ensino_medio_escolas_2021/divulgacao_ensino_medio_escolas_2021.csv', encoding=\"latin-1\", sep = ';')"
   ]
  },
  {
   "cell_type": "code",
   "execution_count": null,
   "id": "b78c7015",
   "metadata": {},
   "outputs": [],
   "source": [
    "print(df01.shape)\n",
    "print(df02.shape)\n",
    "print(dfEM.shape)"
   ]
  },
  {
   "cell_type": "code",
   "execution_count": null,
   "id": "f1806738",
   "metadata": {},
   "outputs": [],
   "source": [
    "display(dfEM)"
   ]
  },
  {
   "cell_type": "code",
   "execution_count": null,
   "id": "e599fa1c",
   "metadata": {},
   "outputs": [],
   "source": [
    "#Excluir valores \"nulos\"\n",
    "df01.drop(df01[df01['VL_OBSERVADO_2021'] == \"-\"].index, inplace = True)\n",
    "df02.drop(df02[df02['VL_OBSERVADO_2021'] == \"-\"].index, inplace = True)\n",
    "dfEM.drop(dfEM[dfEM['VL_OBSERVADO_2021'] == \"-\"].index, inplace = True)\n",
    "\n",
    "#Resetar o índice\n",
    "df01 = df01.reset_index(drop=True)\n",
    "df02 = df02.reset_index(drop=True)\n",
    "dfEM = dfEM.reset_index(drop=True)\n",
    "\n",
    "print(df01.shape)\n",
    "print(df02.shape)\n",
    "print(dfEM.shape)"
   ]
  },
  {
   "cell_type": "code",
   "execution_count": null,
   "id": "3c31eca3",
   "metadata": {},
   "outputs": [],
   "source": [
    "#Manter apenas a coluna IDEB e o código da escola\n",
    "df01.drop([\"SG_UF\",\"CO_MUNICIPIO\",\"NO_MUNICIPIO\",\"NO_ESCOLA\",\"REDE\",\"VL_APROVACAO_2021_SI_4\",\"VL_APROVACAO_2021_SI\",\"VL_APROVACAO_2021_1\",\"VL_APROVACAO_2021_2\",\"VL_APROVACAO_2021_3\",\"VL_APROVACAO_2021_4\",\"VL_INDICADOR_REND_2021\",\"VL_NOTA_MATEMATICA_2021\",\"VL_NOTA_PORTUGUES_2021\",\"VL_NOTA_MEDIA_2021\"], axis=1, inplace=True)\n",
    "df02.drop([\"SG_UF\",\"CO_MUNICIPIO\",\"NO_MUNICIPIO\",\"NO_ESCOLA\",\"REDE\",\"VL_APROVACAO_2021_SI_4\",\"VL_APROVACAO_2021_1\",\"VL_APROVACAO_2021_2\",\"VL_APROVACAO_2021_3\",\"VL_APROVACAO_2021_4\",\"VL_INDICADOR_REND_2021\",\"VL_NOTA_MATEMATICA_2021\",\"VL_NOTA_PORTUGUES_2021\",\"VL_NOTA_MEDIA_2021\"], axis=1, inplace=True)\n",
    "dfEM.drop([\"SG_UF\",\"CO_MUNICIPIO\",\"NO_MUNICIPIO\",\"NO_ESCOLA\",\"REDE\",\"VL_APROVACAO_2021_SI_4\",\"VL_APROVACAO_2021_1\",\"VL_APROVACAO_2021_2\",\"VL_APROVACAO_2021_3\",\"VL_APROVACAO_2021_4\",\"VL_INDICADOR_REND_2021\",\"VL_NOTA_MATEMATICA_2021\",\"VL_NOTA_PORTUGUES_2021\",\"VL_NOTA_MEDIA_2021\"], axis=1, inplace=True)\n",
    "\n",
    "print(df01.shape)\n",
    "print(df02.shape)\n",
    "print(dfEM.shape)"
   ]
  },
  {
   "cell_type": "code",
   "execution_count": null,
   "id": "9669d83b",
   "metadata": {
    "scrolled": true
   },
   "outputs": [],
   "source": [
    "display(dfEM)"
   ]
  },
  {
   "cell_type": "code",
   "execution_count": null,
   "id": "28d1f68d",
   "metadata": {},
   "outputs": [],
   "source": [
    "df_micro = pd.read_csv('/home/rogerio/Downloads/INEP/2021/microdados_censo_escolar_2021/microdados_ed_basica_2021.csv', encoding=\"latin-1\", sep = ';')"
   ]
  },
  {
   "cell_type": "code",
   "execution_count": null,
   "id": "fdb0020f",
   "metadata": {},
   "outputs": [],
   "source": [
    "print(df_micro.shape)\n",
    "display(df_micro)"
   ]
  },
  {
   "cell_type": "code",
   "execution_count": null,
   "id": "32e0a274",
   "metadata": {},
   "outputs": [],
   "source": [
    "#Excluir colunas pouco usadas, renomear coluna do código das escolas, para possibilitar o merge entre dataframes\n",
    "df_micro.drop([\"NO_REGIAO\",\"CO_REGIAO\",\"NO_UF\",\"CO_UF\",\"NO_MESORREGIAO\",\"CO_MESORREGIAO\",\"NO_MICRORREGIAO\",\"CO_MICRORREGIAO\",\"CO_DISTRITO\",\"DS_ENDERECO\",\"NU_ENDERECO\",\"DS_COMPLEMENTO\",\"NO_BAIRRO\",\"CO_CEP\",\"NU_DDD\",\"NU_TELEFONE\",\"CO_ORGAO_REGIONAL\",\"NU_CNPJ_ESCOLA_PRIVADA\",\"NU_CNPJ_MANTENEDORA\",\"CO_ESCOLA_SEDE_VINCULADA\",\"CO_IES_OFERTANTE\"], axis=1, inplace=True)\n",
    "df_micro.rename(columns = {'CO_ENTIDADE':'ID_ESCOLA'}, inplace = True)\n",
    "print(df_micro.shape)"
   ]
  },
  {
   "cell_type": "code",
   "execution_count": null,
   "id": "99c44ee0",
   "metadata": {},
   "outputs": [],
   "source": [
    "#Fazer o merge para incluir o IDEB e gerar um arquivo para cada etapa do ensino\n",
    "df01 = df_micro.merge(df01, on=\"ID_ESCOLA\", how = 'inner')\n",
    "df02 = df_micro.merge(df02, on=\"ID_ESCOLA\", how = 'inner')\n",
    "dfEM = df_micro.merge(dfEM, on=\"ID_ESCOLA\", how = 'inner')\n",
    "\n",
    "#Libera memória\n",
    "import gc\n",
    "del df_micro\n",
    "gc.collect()\n",
    "\n",
    "print(df01.shape)\n",
    "print(df02.shape)\n",
    "print(dfEM.shape)"
   ]
  },
  {
   "cell_type": "code",
   "execution_count": null,
   "id": "7d6eb081",
   "metadata": {},
   "outputs": [],
   "source": [
    "df01"
   ]
  },
  {
   "cell_type": "code",
   "execution_count": null,
   "id": "2d84f07b",
   "metadata": {},
   "outputs": [],
   "source": [
    "#Incluir Adequação da formação docente (AFD)\n",
    "df = pd.read_csv('/home/rogerio/Downloads/INEP/2021/AFD_2021_ESCOLAS/AFD_ESCOLAS_2021.csv', encoding=\"latin-1\", sep = ';')\n",
    "df.rename(columns = {'CO_ENTIDADE':'ID_ESCOLA'}, inplace = True)\n",
    "\n",
    "#Anos iniciais\n",
    "df_temp = df.loc[:, [\"ID_ESCOLA\",\"FUN_AI_CAT_1\",\"FUN_AI_CAT_2\",\"FUN_AI_CAT_3\",\"FUN_AI_CAT_4\",\"FUN_AI_CAT_5\"]]\n",
    "df_temp.rename(columns = {'FUN_AI_CAT_1':'AFD_GRP1'}, inplace = True)\n",
    "df_temp.rename(columns = {'FUN_AI_CAT_2':'AFD_GRP2'}, inplace = True)\n",
    "df_temp.rename(columns = {'FUN_AI_CAT_3':'AFD_GRP3'}, inplace = True)\n",
    "df_temp.rename(columns = {'FUN_AI_CAT_4':'AFD_GRP4'}, inplace = True)\n",
    "df_temp.rename(columns = {'FUN_AI_CAT_5':'AFD_GRP5'}, inplace = True)\n",
    "df01 = df_temp.merge(df01, on=\"ID_ESCOLA\", how = 'inner')\n",
    "\n",
    "#Anos finais\n",
    "df_temp = df.loc[:, [\"ID_ESCOLA\",\"FUN_AF_CAT_1\",\"FUN_AF_CAT_2\",\"FUN_AF_CAT_3\",\"FUN_AF_CAT_4\",\"FUN_AF_CAT_5\"]]\n",
    "df_temp.rename(columns = {'FUN_AF_CAT_1':'AFD_GRP1'}, inplace = True)\n",
    "df_temp.rename(columns = {'FUN_AF_CAT_2':'AFD_GRP2'}, inplace = True)\n",
    "df_temp.rename(columns = {'FUN_AF_CAT_3':'AFD_GRP3'}, inplace = True)\n",
    "df_temp.rename(columns = {'FUN_AF_CAT_4':'AFD_GRP4'}, inplace = True)\n",
    "df_temp.rename(columns = {'FUN_AF_CAT_5':'AFD_GRP5'}, inplace = True)\n",
    "df02 = df_temp.merge(df02, on=\"ID_ESCOLA\", how = 'inner')\n",
    "\n",
    "#Ensino médio\n",
    "df_temp = df.loc[:, [\"ID_ESCOLA\",\"MED_CAT_1\",\"MED_CAT_2\",\"MED_CAT_3\",\"MED_CAT_4\",\"MED_CAT_5\"]]\n",
    "df_temp.rename(columns = {'MED_CAT_1':'AFD_GRP1'}, inplace = True)\n",
    "df_temp.rename(columns = {'MED_CAT_2':'AFD_GRP2'}, inplace = True)\n",
    "df_temp.rename(columns = {'MED_CAT_3':'AFD_GRP3'}, inplace = True)\n",
    "df_temp.rename(columns = {'MED_CAT_4':'AFD_GRP4'}, inplace = True)\n",
    "df_temp.rename(columns = {'MED_CAT_5':'AFD_GRP5'}, inplace = True)\n",
    "dfEM = df_temp.merge(dfEM, on=\"ID_ESCOLA\", how = 'inner')\n",
    "\n",
    "print(df01.shape)\n",
    "print(df02.shape)\n",
    "print(dfEM.shape)"
   ]
  },
  {
   "cell_type": "code",
   "execution_count": null,
   "id": "af2e6159",
   "metadata": {},
   "outputs": [],
   "source": [
    "dfEM"
   ]
  },
  {
   "cell_type": "code",
   "execution_count": null,
   "id": "06c615cd",
   "metadata": {},
   "outputs": [],
   "source": [
    "#Incluir média de alunos por turma (ATU)\n",
    "\n",
    "df = pd.read_csv('/home/rogerio/Downloads/INEP/2021/ATU_2021_ESCOLAS/ATU_ESCOLAS_2021.csv', encoding=\"latin-1\", sep = ';')\n",
    "df.rename(columns = {'CO_ENTIDADE':'ID_ESCOLA'}, inplace = True)\n",
    "\n",
    "#Anos iniciais\n",
    "df_temp = df.loc[:, [\"ID_ESCOLA\",\"FUN_AI_CAT_0\"]]\n",
    "df_temp.rename(columns = {'FUN_AI_CAT_0':'ATU'}, inplace = True)\n",
    "df01 = df_temp.merge(df01, on=\"ID_ESCOLA\", how = 'inner')\n",
    "\n",
    "#Anos finais\n",
    "df_temp = df.loc[:, [\"ID_ESCOLA\",\"FUN_AF_CAT_0\"]]\n",
    "df_temp.rename(columns = {'FUN_AF_CAT_0':'ATU'}, inplace = True)\n",
    "df02 = df_temp.merge(df02, on=\"ID_ESCOLA\", how = 'inner')\n",
    "\n",
    "#Ensino médio\n",
    "df_temp = df.loc[:, [\"ID_ESCOLA\",\"MED_CAT_0\"]]\n",
    "df_temp.rename(columns = {'MED_CAT_0':'ATU'}, inplace = True)\n",
    "dfEM = df_temp.merge(dfEM, on=\"ID_ESCOLA\", how = 'inner')\n",
    "\n",
    "print(df01.shape)\n",
    "print(df02.shape)\n",
    "print(dfEM.shape)\n",
    "dfEM"
   ]
  },
  {
   "cell_type": "code",
   "execution_count": null,
   "id": "37fb3d0e",
   "metadata": {},
   "outputs": [],
   "source": [
    "#Incluir percentual de docentes com curso superior (DSU)\n",
    "\n",
    "df = pd.read_csv('/home/rogerio/Downloads/INEP/2021/DSU_2021_ESCOLAS/DSU_ESCOLAS_2021.csv', encoding=\"latin-1\", sep = ';')\n",
    "df.rename(columns = {'CO_ENTIDADE':'ID_ESCOLA'}, inplace = True)\n",
    "\n",
    "#Anos iniciais\n",
    "df_temp = df.loc[:, [\"ID_ESCOLA\",\"FUN_AI_CAT_0\"]]\n",
    "df_temp.rename(columns = {'FUN_AI_CAT_0':'DSU'}, inplace = True)\n",
    "df01 = df_temp.merge(df01, on=\"ID_ESCOLA\", how = 'inner')\n",
    "\n",
    "#Anos finais\n",
    "df_temp = df.loc[:, [\"ID_ESCOLA\",\"FUN_AF_CAT_0\"]]\n",
    "df_temp.rename(columns = {'FUN_AF_CAT_0':'DSU'}, inplace = True)\n",
    "df02 = df_temp.merge(df02, on=\"ID_ESCOLA\", how = 'inner')\n",
    "\n",
    "#Ensino médio\n",
    "df_temp = df.loc[:, [\"ID_ESCOLA\",\"MED_CAT_0\"]]\n",
    "df_temp.rename(columns = {'MED_CAT_0':'DSU'}, inplace = True)\n",
    "dfEM = df_temp.merge(dfEM, on=\"ID_ESCOLA\", how = 'inner')\n",
    "\n",
    "print(df01.shape)\n",
    "print(df02.shape)\n",
    "print(dfEM.shape)\n",
    "df01"
   ]
  },
  {
   "cell_type": "code",
   "execution_count": null,
   "id": "ae48b190",
   "metadata": {},
   "outputs": [],
   "source": [
    "dfEM"
   ]
  },
  {
   "cell_type": "code",
   "execution_count": null,
   "id": "b9b5f212",
   "metadata": {},
   "outputs": [],
   "source": [
    "#Média de horas-aulas diária (HAD)\n",
    "\n",
    "df = pd.read_csv('/home/rogerio/Downloads/INEP/2021/HAD_2021_ESCOLAS/HAD_ESCOLAS_2021.csv', encoding=\"latin-1\", sep = ';')\n",
    "df.rename(columns = {'CO_ENTIDADE':'ID_ESCOLA'}, inplace = True)\n",
    "\n",
    "#Anos iniciais\n",
    "df_temp = df.loc[:, [\"ID_ESCOLA\",\"FUN_AI_CAT_0\"]]\n",
    "df_temp.rename(columns = {'FUN_AI_CAT_0':'HAD'}, inplace = True)\n",
    "df01 = df_temp.merge(df01, on=\"ID_ESCOLA\", how = 'inner')\n",
    "\n",
    "#Anos finais\n",
    "df_temp = df.loc[:, [\"ID_ESCOLA\",\"FUN_AF_CAT_0\"]]\n",
    "df_temp.rename(columns = {'FUN_AF_CAT_0':'HAD'}, inplace = True)\n",
    "df02 = df_temp.merge(df02, on=\"ID_ESCOLA\", how = 'inner')\n",
    "\n",
    "#Ensino médio\n",
    "df_temp = df.loc[:, [\"ID_ESCOLA\",\"MED_CAT_0\"]]\n",
    "df_temp.rename(columns = {'MED_CAT_0':'HAD'}, inplace = True)\n",
    "dfEM = df_temp.merge(dfEM, on=\"ID_ESCOLA\", how = 'inner')\n",
    "\n",
    "print(df01.shape)\n",
    "print(df02.shape)\n",
    "print(dfEM.shape)\n",
    "df02"
   ]
  },
  {
   "cell_type": "code",
   "execution_count": null,
   "id": "67d67ed5",
   "metadata": {},
   "outputs": [],
   "source": [
    "#Nível de complexidade da gestão da escola (IGC)\n",
    "\n",
    "#É preciso fazer uma transformação, o dado vai de \"Nivel 1\" a \"Nivel 5\"\n",
    "df = pd.read_csv('/home/rogerio/Downloads/INEP/2021/ICG_2021_ESCOLAS/ICG_ESCOLAS_2021.csv', encoding=\"latin-1\", sep = ';')\n",
    "df['COMPLEX'] = df['COMPLEX'].str.replace(r'\\D', '')\n",
    "\n",
    "df.rename(columns = {'CO_ENTIDADE':'ID_ESCOLA'}, inplace = True)\n",
    "\n",
    "#Anos iniciais\n",
    "df_temp = df.loc[:, [\"ID_ESCOLA\",\"COMPLEX\"]]\n",
    "df_temp.rename(columns = {'COMPLEX':'IGC'}, inplace = True)\n",
    "df01 = df_temp.merge(df01, on=\"ID_ESCOLA\", how = 'inner')\n",
    "\n",
    "#Anos finais\n",
    "df_temp = df.loc[:, [\"ID_ESCOLA\",\"COMPLEX\"]]\n",
    "df_temp.rename(columns = {'COMPLEX':'IGC'}, inplace = True)\n",
    "df02 = df_temp.merge(df02, on=\"ID_ESCOLA\", how = 'inner')\n",
    "\n",
    "#Ensino médio\n",
    "df_temp = df.loc[:, [\"ID_ESCOLA\",\"COMPLEX\"]]\n",
    "df_temp.rename(columns = {'COMPLEX':'IGC'}, inplace = True)\n",
    "dfEM = df_temp.merge(dfEM, on=\"ID_ESCOLA\", how = 'inner')\n",
    "\n",
    "print(df01.shape)\n",
    "print(df02.shape)\n",
    "print(dfEM.shape)\n",
    "dfEM"
   ]
  },
  {
   "cell_type": "code",
   "execution_count": null,
   "id": "b4c038b8",
   "metadata": {},
   "outputs": [],
   "source": [
    "#Índice do Esforço Docente (IED)\n",
    "df = pd.read_csv('/home/rogerio/Downloads/INEP/2021/IED_2021_ESCOLAS/IED_ESCOLAS_2021.csv', encoding=\"latin-1\", sep = ';')\n",
    "df.rename(columns = {'CO_ENTIDADE':'ID_ESCOLA'}, inplace = True)\n",
    "\n",
    "#Anos iniciais\n",
    "df_temp = df.loc[:, [\"ID_ESCOLA\",\"FUN_AI_CAT_1\",\"FUN_AI_CAT_2\",\"FUN_AI_CAT_3\",\"FUN_AI_CAT_4\",\"FUN_AI_CAT_5\",\"FUN_AI_CAT_6\"]]\n",
    "df_temp.rename(columns = {'FUN_AI_CAT_1':'IED_NIVEL1'}, inplace = True)\n",
    "df_temp.rename(columns = {'FUN_AI_CAT_2':'IED_NIVEL2'}, inplace = True)\n",
    "df_temp.rename(columns = {'FUN_AI_CAT_3':'IED_NIVEL3'}, inplace = True)\n",
    "df_temp.rename(columns = {'FUN_AI_CAT_4':'IED_NIVEL4'}, inplace = True)\n",
    "df_temp.rename(columns = {'FUN_AI_CAT_5':'IED_NIVEL5'}, inplace = True)\n",
    "df_temp.rename(columns = {'FUN_AI_CAT_6':'IED_NIVEL6'}, inplace = True)\n",
    "df01 = df_temp.merge(df01, on=\"ID_ESCOLA\", how = 'inner')\n",
    "\n",
    "#Anos finais\n",
    "df_temp = df.loc[:, [\"ID_ESCOLA\",\"FUN_AF_CAT_1\",\"FUN_AF_CAT_2\",\"FUN_AF_CAT_3\",\"FUN_AF_CAT_4\",\"FUN_AF_CAT_5\",\"FUN_AF_CAT_6\"]]\n",
    "df_temp.rename(columns = {'FUN_AF_CAT_1':'IED_NIVEL1'}, inplace = True)\n",
    "df_temp.rename(columns = {'FUN_AF_CAT_2':'IED_NIVEL2'}, inplace = True)\n",
    "df_temp.rename(columns = {'FUN_AF_CAT_3':'IED_NIVEL3'}, inplace = True)\n",
    "df_temp.rename(columns = {'FUN_AF_CAT_4':'IED_NIVEL4'}, inplace = True)\n",
    "df_temp.rename(columns = {'FUN_AF_CAT_5':'IED_NIVEL5'}, inplace = True)\n",
    "df_temp.rename(columns = {'FUN_AF_CAT_6':'IED_NIVEL6'}, inplace = True)\n",
    "df02 = df_temp.merge(df02, on=\"ID_ESCOLA\", how = 'inner')\n",
    "\n",
    "#Ensino médio\n",
    "df_temp = df.loc[:, [\"ID_ESCOLA\",\"MED_CAT_1\",\"MED_CAT_2\",\"MED_CAT_3\",\"MED_CAT_4\",\"MED_CAT_5\",\"MED_CAT_6\"]]\n",
    "df_temp.rename(columns = {'MED_CAT_1':'IED_NIVEL1'}, inplace = True)\n",
    "df_temp.rename(columns = {'MED_CAT_2':'IED_NIVEL2'}, inplace = True)\n",
    "df_temp.rename(columns = {'MED_CAT_3':'IED_NIVEL3'}, inplace = True)\n",
    "df_temp.rename(columns = {'MED_CAT_4':'IED_NIVEL4'}, inplace = True)\n",
    "df_temp.rename(columns = {'MED_CAT_5':'IED_NIVEL5'}, inplace = True)\n",
    "df_temp.rename(columns = {'MED_CAT_6':'IED_NIVEL6'}, inplace = True)\n",
    "dfEM = df_temp.merge(dfEM, on=\"ID_ESCOLA\", how = 'inner')\n",
    "\n",
    "print(df01.shape)\n",
    "print(df02.shape)\n",
    "print(dfEM.shape)\n",
    "df02"
   ]
  },
  {
   "cell_type": "code",
   "execution_count": null,
   "id": "9d5da22e",
   "metadata": {},
   "outputs": [],
   "source": [
    "#Indicador da Regularidade Docente (IRD)\n",
    "\n",
    "df = pd.read_csv('/home/rogerio/Downloads/INEP/2021/IRD_2021_ESCOLAS/IRD_ESCOLAS_2021.csv', encoding=\"latin-1\", sep = ';')\n",
    "df.rename(columns = {'CO_ENTIDADE':'ID_ESCOLA'}, inplace = True)\n",
    "\n",
    "#Anos iniciais\n",
    "df_temp = df.loc[:, [\"ID_ESCOLA\",\"EDU_BAS_CAT_0\"]]\n",
    "df_temp.rename(columns = {'EDU_BAS_CAT_0':'IRD'}, inplace = True)\n",
    "df01 = df_temp.merge(df01, on=\"ID_ESCOLA\", how = 'inner')\n",
    "\n",
    "#Anos finais\n",
    "df_temp = df.loc[:, [\"ID_ESCOLA\",\"EDU_BAS_CAT_0\"]]\n",
    "df_temp.rename(columns = {'EDU_BAS_CAT_0':'IRD'}, inplace = True)\n",
    "df02 = df_temp.merge(df02, on=\"ID_ESCOLA\", how = 'inner')\n",
    "\n",
    "#Ensino médio\n",
    "df_temp = df.loc[:, [\"ID_ESCOLA\",\"EDU_BAS_CAT_0\"]]\n",
    "df_temp.rename(columns = {'EDU_BAS_CAT_0':'IRD'}, inplace = True)\n",
    "dfEM = df_temp.merge(dfEM, on=\"ID_ESCOLA\", how = 'inner')\n",
    "\n",
    "print(df01.shape)\n",
    "print(df02.shape)\n",
    "print(dfEM.shape)\n",
    "df02"
   ]
  },
  {
   "cell_type": "code",
   "execution_count": null,
   "id": "eab6f0fb",
   "metadata": {},
   "outputs": [],
   "source": [
    "#Taxa de distorção idade-série (TDI)\n",
    "\n",
    "df = pd.read_csv('/home/rogerio/Downloads/INEP/2021/TDI_2021_ESCOLAS/TDI_ESCOLAS_2021.csv', encoding=\"latin-1\", sep = ';')\n",
    "df.rename(columns = {'CO_ENTIDADE':'ID_ESCOLA'}, inplace = True)\n",
    "\n",
    "#Anos iniciais\n",
    "df_temp = df.loc[:, [\"ID_ESCOLA\",\"FUN_AI_CAT_0\"]]\n",
    "df_temp.rename(columns = {'FUN_AI_CAT_0':'TDI'}, inplace = True)\n",
    "df01 = df_temp.merge(df01, on=\"ID_ESCOLA\", how = 'inner')\n",
    "\n",
    "#Anos finais\n",
    "df_temp = df.loc[:, [\"ID_ESCOLA\",\"FUN_AF_CAT_0\"]]\n",
    "df_temp.rename(columns = {'FUN_AF_CAT_0':'TDI'}, inplace = True)\n",
    "df02 = df_temp.merge(df02, on=\"ID_ESCOLA\", how = 'inner')\n",
    "\n",
    "#Ensino médio\n",
    "df_temp = df.loc[:, [\"ID_ESCOLA\",\"MED_CAT_0\"]]\n",
    "df_temp.rename(columns = {'MED_CAT_0':'TDI'}, inplace = True)\n",
    "dfEM = df_temp.merge(dfEM, on=\"ID_ESCOLA\", how = 'inner')\n",
    "\n",
    "print(df01.shape)\n",
    "print(df02.shape)\n",
    "print(dfEM.shape)\n",
    "dfEM"
   ]
  },
  {
   "cell_type": "code",
   "execution_count": null,
   "id": "e696d8b6",
   "metadata": {},
   "outputs": [],
   "source": [
    "#Taxa de não resposta (TNR)\n",
    "\n",
    "df = pd.read_csv('/home/rogerio/Downloads/INEP/2021/tnr_escolas_2021/tnr_escolas_2021.csv', encoding=\"latin-1\", sep = ';')\n",
    "df.rename(columns = {'CO_ENTIDADE':'ID_ESCOLA'}, inplace = True)\n",
    "\n",
    "#Anos iniciais\n",
    "df_temp = df.loc[:, [\"ID_ESCOLA\",\"4_CAT_FUN_AI\"]]\n",
    "df_temp.rename(columns = {'4_CAT_FUN_AI':'TNR'}, inplace = True)\n",
    "df01 = df_temp.merge(df01, on=\"ID_ESCOLA\", how = 'inner')\n",
    "\n",
    "#Anos finais\n",
    "df_temp = df.loc[:, [\"ID_ESCOLA\",\"4_CAT_FUN_AF\"]]\n",
    "df_temp.rename(columns = {'4_CAT_FUN_AF':'TNR'}, inplace = True)\n",
    "df02 = df_temp.merge(df02, on=\"ID_ESCOLA\", how = 'inner')\n",
    "\n",
    "#Ensino médio\n",
    "df_temp = df.loc[:, [\"ID_ESCOLA\",\"4_CAT_MED\"]]\n",
    "df_temp.rename(columns = {'4_CAT_MED':'TNR'}, inplace = True)\n",
    "dfEM = df_temp.merge(dfEM, on=\"ID_ESCOLA\", how = 'inner')\n",
    "\n",
    "print(df01.shape)\n",
    "print(df02.shape)\n",
    "print(dfEM.shape)\n",
    "df02"
   ]
  },
  {
   "cell_type": "code",
   "execution_count": null,
   "id": "a83c77c5",
   "metadata": {},
   "outputs": [],
   "source": [
    "#Taxa de rendimento escolar, são três taxas:\n",
    "# 1. TX_APR - Taxa de Aprovação\n",
    "# 1. TX_REP - Taxa de Reprovação\n",
    "# 3. TX_ABD - Taxa de Abandono\n",
    "\n",
    "df = pd.read_csv('/home/rogerio/Downloads/INEP/2021/tx_rend_escolas_2021/tx_rend_escolas_2021.csv', encoding=\"latin-1\", sep = ';')\n",
    "df.rename(columns = {'CO_ENTIDADE':'ID_ESCOLA'}, inplace = True)\n",
    "\n",
    "#Anos iniciais\n",
    "df_temp = df.loc[:, [\"ID_ESCOLA\",\"1_CAT_FUN_AI\",\"2_CAT_FUN_AI\",\"3_CAT_FUN_AI\"]]\n",
    "df_temp.rename(columns = {'1_CAT_FUN_AI':'TX_APR'}, inplace = True)\n",
    "df_temp.rename(columns = {'2_CAT_FUN_AI':'TX_REP'}, inplace = True)\n",
    "df_temp.rename(columns = {'3_CAT_FUN_AI':'TX_ABD'}, inplace = True)\n",
    "df01 = df_temp.merge(df01, on=\"ID_ESCOLA\", how = 'inner')\n",
    "\n",
    "#Anos finais\n",
    "df_temp = df.loc[:, [\"ID_ESCOLA\",\"1_CAT_FUN_AF\",\"2_CAT_FUN_AF\",\"3_CAT_FUN_AF\"]]\n",
    "df_temp.rename(columns = {'1_CAT_FUN_AF':'TX_APR'}, inplace = True)\n",
    "df_temp.rename(columns = {'2_CAT_FUN_AF':'TX_REP'}, inplace = True)\n",
    "df_temp.rename(columns = {'3_CAT_FUN_AF':'TX_ABD'}, inplace = True)\n",
    "df02 = df_temp.merge(df02, on=\"ID_ESCOLA\", how = 'inner')\n",
    "\n",
    "#Ensino médio\n",
    "df_temp = df.loc[:, [\"ID_ESCOLA\",\"1_CAT_MED\",\"2_CAT_MED\",\"3_CAT_MED\"]]\n",
    "df_temp.rename(columns = {'1_CAT_MED':'TX_APR'}, inplace = True)\n",
    "df_temp.rename(columns = {'2_CAT_MED':'TX_REP'}, inplace = True)\n",
    "df_temp.rename(columns = {'3_CAT_MED':'TX_ABD'}, inplace = True)\n",
    "dfEM = df_temp.merge(dfEM, on=\"ID_ESCOLA\", how = 'inner')\n",
    "\n",
    "print(df01.shape)\n",
    "print(df02.shape)\n",
    "print(dfEM.shape)\n",
    "#Salvar em \n",
    "df02"
   ]
  },
  {
   "cell_type": "code",
   "execution_count": null,
   "id": "68a66641",
   "metadata": {},
   "outputs": [],
   "source": [
    "#Salvar em CSV\n",
    "df01.to_csv('/home/rogerio/Downloads/INEP/2021/DADOS_INEP_EF_AI.csv', sep=';', index=False, encoding='latin-1')\n",
    "df02.to_csv('/home/rogerio/Downloads/INEP/2021/DADOS_INEP_EF_AF.csv', sep=';', index=False, encoding='latin-1')\n",
    "dfEM.to_csv('/home/rogerio/Downloads/INEP/2021/DADOS_INEP_EM.csv', sep=';', index=False, encoding='latin-1')"
   ]
  },
  {
   "cell_type": "code",
   "execution_count": null,
   "id": "2f9fbf35",
   "metadata": {},
   "outputs": [],
   "source": []
  }
 ],
 "metadata": {
  "kernelspec": {
   "display_name": "Python 3 (ipykernel)",
   "language": "python",
   "name": "python3"
  },
  "language_info": {
   "codemirror_mode": {
    "name": "ipython",
    "version": 3
   },
   "file_extension": ".py",
   "mimetype": "text/x-python",
   "name": "python",
   "nbconvert_exporter": "python",
   "pygments_lexer": "ipython3",
   "version": "3.10.12"
  }
 },
 "nbformat": 4,
 "nbformat_minor": 5
}
